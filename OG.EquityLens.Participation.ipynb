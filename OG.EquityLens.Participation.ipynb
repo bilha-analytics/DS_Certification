{
 "cells": [
  {
   "cell_type": "code",
   "execution_count": 36,
   "metadata": {},
   "outputs": [
    {
     "name": "stdout",
     "output_type": "stream",
     "text": [
      "Loading OG_equity_lens_pilot-20180313.csv from >> datasets\n",
      "Dataset Loaded: \n",
      "\n"
     ]
    },
    {
     "data": {
      "text/html": [
       "<div>\n",
       "<style>\n",
       "    .dataframe thead tr:only-child th {\n",
       "        text-align: right;\n",
       "    }\n",
       "\n",
       "    .dataframe thead th {\n",
       "        text-align: left;\n",
       "    }\n",
       "\n",
       "    .dataframe tbody tr th {\n",
       "        vertical-align: top;\n",
       "    }\n",
       "</style>\n",
       "<table border=\"1\" class=\"dataframe\">\n",
       "  <thead>\n",
       "    <tr style=\"text-align: right;\">\n",
       "      <th></th>\n",
       "      <th>CHP.ID</th>\n",
       "      <th>Nmb.Households.Registered</th>\n",
       "      <th>Nmb.HH.Done.FamilySurvey</th>\n",
       "      <th>Pct.HH.Done.FamilySurvey</th>\n",
       "      <th>Branch.Name</th>\n",
       "    </tr>\n",
       "  </thead>\n",
       "  <tbody>\n",
       "    <tr>\n",
       "      <th>0</th>\n",
       "      <td>CHP.Og.1</td>\n",
       "      <td>88</td>\n",
       "      <td>47</td>\n",
       "      <td>0.534091</td>\n",
       "      <td>Busia</td>\n",
       "    </tr>\n",
       "    <tr>\n",
       "      <th>1</th>\n",
       "      <td>CHP.Og.2</td>\n",
       "      <td>110</td>\n",
       "      <td>61</td>\n",
       "      <td>0.554545</td>\n",
       "      <td>Butula</td>\n",
       "    </tr>\n",
       "    <tr>\n",
       "      <th>2</th>\n",
       "      <td>CHP.Og.3</td>\n",
       "      <td>113</td>\n",
       "      <td>37</td>\n",
       "      <td>0.327434</td>\n",
       "      <td>Funyula</td>\n",
       "    </tr>\n",
       "  </tbody>\n",
       "</table>\n",
       "</div>"
      ],
      "text/plain": [
       "     CHP.ID  Nmb.Households.Registered  Nmb.HH.Done.FamilySurvey  \\\n",
       "0  CHP.Og.1                         88                        47   \n",
       "1  CHP.Og.2                        110                        61   \n",
       "2  CHP.Og.3                        113                        37   \n",
       "\n",
       "   Pct.HH.Done.FamilySurvey Branch.Name  \n",
       "0                  0.534091       Busia  \n",
       "1                  0.554545      Butula  \n",
       "2                  0.327434     Funyula  "
      ]
     },
     "execution_count": 36,
     "metadata": {},
     "output_type": "execute_result"
    }
   ],
   "source": [
    "## 1. Load Libraries\n",
    "import pandas as pd\n",
    "import numpy as np\n",
    "import seaborn as sns\n",
    "import matplotlib.pyplot as plt \n",
    "from dateutil.parser import parse\n",
    "\n",
    "%matplotlib inline \n",
    "\n",
    "\n",
    "## Load Data\n",
    "DATA_DIR = \"datasets\" \n",
    "DATA_FILE = \"OG_equity_lens_pilot-20180313.csv\"\n",
    "\n",
    "print( \"Loading %s from >> %s\" % (DATA_FILE, DATA_DIR))\n",
    "dataset = pd.read_csv( \"%s/%s\" % (DATA_DIR, DATA_FILE))\n",
    "\n",
    "print( \"Dataset Loaded: \\n\" )\n",
    "dataset.head(3)\n",
    "\n",
    "\n",
    "## https://www.analyticsvidhya.com/blog/2016/01/guide-data-exploration/ <<< Class "
   ]
  },
  {
   "cell_type": "code",
   "execution_count": 22,
   "metadata": {
    "scrolled": true
   },
   "outputs": [
    {
     "name": "stdout",
     "output_type": "stream",
     "text": [
      "Glimpse Details:  \n"
     ]
    },
    {
     "data": {
      "text/html": [
       "<div>\n",
       "<style>\n",
       "    .dataframe thead tr:only-child th {\n",
       "        text-align: right;\n",
       "    }\n",
       "\n",
       "    .dataframe thead th {\n",
       "        text-align: left;\n",
       "    }\n",
       "\n",
       "    .dataframe tbody tr th {\n",
       "        vertical-align: top;\n",
       "    }\n",
       "</style>\n",
       "<table border=\"1\" class=\"dataframe\">\n",
       "  <thead>\n",
       "    <tr style=\"text-align: right;\">\n",
       "      <th></th>\n",
       "      <th>Nmb.Households.Registered</th>\n",
       "      <th>Nmb.HH.Done.FamilySurvey</th>\n",
       "      <th>Pct.HH.Done.FamilySurvey</th>\n",
       "    </tr>\n",
       "  </thead>\n",
       "  <tbody>\n",
       "    <tr>\n",
       "      <th>count</th>\n",
       "      <td>72.000000</td>\n",
       "      <td>72.000000</td>\n",
       "      <td>72.000000</td>\n",
       "    </tr>\n",
       "    <tr>\n",
       "      <th>mean</th>\n",
       "      <td>101.625000</td>\n",
       "      <td>75.986111</td>\n",
       "      <td>0.742437</td>\n",
       "    </tr>\n",
       "    <tr>\n",
       "      <th>std</th>\n",
       "      <td>26.696752</td>\n",
       "      <td>36.570015</td>\n",
       "      <td>0.265242</td>\n",
       "    </tr>\n",
       "    <tr>\n",
       "      <th>min</th>\n",
       "      <td>55.000000</td>\n",
       "      <td>8.000000</td>\n",
       "      <td>0.076190</td>\n",
       "    </tr>\n",
       "    <tr>\n",
       "      <th>25%</th>\n",
       "      <td>85.000000</td>\n",
       "      <td>50.000000</td>\n",
       "      <td>0.553840</td>\n",
       "    </tr>\n",
       "    <tr>\n",
       "      <th>50%</th>\n",
       "      <td>99.000000</td>\n",
       "      <td>72.000000</td>\n",
       "      <td>0.843870</td>\n",
       "    </tr>\n",
       "    <tr>\n",
       "      <th>75%</th>\n",
       "      <td>116.250000</td>\n",
       "      <td>98.250000</td>\n",
       "      <td>0.962531</td>\n",
       "    </tr>\n",
       "    <tr>\n",
       "      <th>max</th>\n",
       "      <td>185.000000</td>\n",
       "      <td>178.000000</td>\n",
       "      <td>1.000000</td>\n",
       "    </tr>\n",
       "  </tbody>\n",
       "</table>\n",
       "</div>"
      ],
      "text/plain": [
       "       Nmb.Households.Registered  Nmb.HH.Done.FamilySurvey  \\\n",
       "count                  72.000000                 72.000000   \n",
       "mean                  101.625000                 75.986111   \n",
       "std                    26.696752                 36.570015   \n",
       "min                    55.000000                  8.000000   \n",
       "25%                    85.000000                 50.000000   \n",
       "50%                    99.000000                 72.000000   \n",
       "75%                   116.250000                 98.250000   \n",
       "max                   185.000000                178.000000   \n",
       "\n",
       "       Pct.HH.Done.FamilySurvey  \n",
       "count                 72.000000  \n",
       "mean                   0.742437  \n",
       "std                    0.265242  \n",
       "min                    0.076190  \n",
       "25%                    0.553840  \n",
       "50%                    0.843870  \n",
       "75%                    0.962531  \n",
       "max                    1.000000  "
      ]
     },
     "execution_count": 22,
     "metadata": {},
     "output_type": "execute_result"
    }
   ],
   "source": [
    "## Data Structure\n",
    "\n",
    "print( \"Glimpse Details:  \") \n",
    "dataset.describe() \n",
    "\n",
    "\n",
    "### Notes\n",
    "'''\n",
    "1. n=72\n",
    "2. No missing values except for Branch.Name, which has 58 << see output in next cell \n",
    "3. Non-numeric variables are not accounted for\n",
    "\n",
    "''' \n"
   ]
  },
  {
   "cell_type": "code",
   "execution_count": 32,
   "metadata": {},
   "outputs": [
    {
     "name": "stdout",
     "output_type": "stream",
     "text": [
      "Checking for NULL values per variable\n"
     ]
    },
    {
     "data": {
      "text/plain": [
       "CHP.ID                        0\n",
       "Nmb.Households.Registered     0\n",
       "Nmb.HH.Done.FamilySurvey      0\n",
       "Pct.HH.Done.FamilySurvey      0\n",
       "Branch.Name                  58\n",
       "dtype: int64"
      ]
     },
     "execution_count": 32,
     "metadata": {},
     "output_type": "execute_result"
    }
   ],
   "source": [
    "print (\"Checking for NULL values per variable\")\n",
    "dataset.apply(lambda x: sum(x.isnull()),axis=0)  "
   ]
  },
  {
   "cell_type": "code",
   "execution_count": 25,
   "metadata": {},
   "outputs": [
    {
     "data": {
      "text/plain": [
       "Kenyenya         1\n",
       "Thika            1\n",
       "Malaba           1\n",
       "Funyula          1\n",
       "Malava           1\n",
       "Ogembo           1\n",
       "Busia            1\n",
       "Suneka           1\n",
       "Butula           1\n",
       "Shinyalu         1\n",
       "Kuresoi          1\n",
       "Nambale          1\n",
       "HQ               1\n",
       "Port Victoria    1\n",
       "Name: Branch.Name, dtype: int64"
      ]
     },
     "execution_count": 25,
     "metadata": {},
     "output_type": "execute_result"
    }
   ],
   "source": [
    "dataset['Branch.Name'].value_counts()"
   ]
  },
  {
   "cell_type": "code",
   "execution_count": 4,
   "metadata": {
    "collapsed": true
   },
   "outputs": [],
   "source": [
    "## Sample Structure\n",
    "print(\"If each CHP as mapped to a branch then we could see the # CHPs per branch as above\\n\")\n"
   ]
  },
  {
   "cell_type": "code",
   "execution_count": 28,
   "metadata": {},
   "outputs": [
    {
     "name": "stdout",
     "output_type": "stream",
     "text": [
      "Households per CHP distribution, using default plotter\n"
     ]
    },
    {
     "data": {
      "text/plain": [
       "<matplotlib.axes._subplots.AxesSubplot at 0x2223bf0feb8>"
      ]
     },
     "execution_count": 28,
     "metadata": {},
     "output_type": "execute_result"
    },
    {
     "data": {
      "image/png": "[encoded data removed]",
      "text/plain": [
       "<matplotlib.figure.Figure at 0x2223c0909b0>"
      ]
     },
     "metadata": {},
     "output_type": "display_data"
    }
   ],
   "source": [
    "## Distributions \n",
    "print(\"Households per CHP distribution, using default plotter\")\n",
    "dataset['Nmb.Households.Registered'].hist()"
   ]
  },
  {
   "cell_type": "code",
   "execution_count": 29,
   "metadata": {},
   "outputs": [
    {
     "name": "stdout",
     "output_type": "stream",
     "text": [
      "Households Surveyed per CHP distribution, using default plotter\n"
     ]
    },
    {
     "data": {
      "text/plain": [
       "<matplotlib.axes._subplots.AxesSubplot at 0x2223c70f4e0>"
      ]
     },
     "execution_count": 29,
     "metadata": {},
     "output_type": "execute_result"
    },
    {
     "data": {
      "image/png": "[encoded data removed]",
      "text/plain": [
       "<matplotlib.figure.Figure at 0x2223c7739b0>"
      ]
     },
     "metadata": {},
     "output_type": "display_data"
    }
   ],
   "source": [
    "print(\"Households Surveyed per CHP distribution, using default plotter\")\n",
    "dataset['Nmb.HH.Done.FamilySurvey'].hist()"
   ]
  },
  {
   "cell_type": "code",
   "execution_count": 30,
   "metadata": {},
   "outputs": [
    {
     "name": "stdout",
     "output_type": "stream",
     "text": [
      "% Households Surveyed per CHP distribution, using default plotter\n"
     ]
    },
    {
     "data": {
      "text/plain": [
       "<matplotlib.axes._subplots.AxesSubplot at 0x2223c7d1748>"
      ]
     },
     "execution_count": 30,
     "metadata": {},
     "output_type": "execute_result"
    },
    {
     "data": {
      "image/png": "[encoded data removed]",
      "text/plain": [
       "<matplotlib.figure.Figure at 0x2223c78d278>"
      ]
     },
     "metadata": {},
     "output_type": "display_data"
    }
   ],
   "source": [
    "print(\"% Households Surveyed per CHP distribution, using default plotter\")\n",
    "dataset['Pct.HH.Done.FamilySurvey'].hist()\n"
   ]
  },
  {
   "cell_type": "code",
   "execution_count": 38,
   "metadata": {
    "scrolled": true
   },
   "outputs": [
    {
     "name": "stdout",
     "output_type": "stream",
     "text": [
      "Box Plots, using default plotter\n"
     ]
    },
    {
     "data": {
      "text/plain": [
       "<matplotlib.axes._subplots.AxesSubplot at 0x2223cde0e80>"
      ]
     },
     "execution_count": 38,
     "metadata": {},
     "output_type": "execute_result"
    },
    {
     "data": {
      "image/png": "[encoded data removed]",
      "text/plain": [
       "<matplotlib.figure.Figure at 0x2223cc2aba8>"
      ]
     },
     "metadata": {},
     "output_type": "display_data"
    }
   ],
   "source": [
    "## Summary Stats \n",
    "\n",
    "\n",
    "\n",
    "print(\"Box Plots, using default plotter\")\n",
    "dataset.boxplot()\n",
    "\n"
   ]
  },
  {
   "cell_type": "code",
   "execution_count": 33,
   "metadata": {},
   "outputs": [
    {
     "name": "stderr",
     "output_type": "stream",
     "text": [
      "C:\\Users\\BILHA\\Anaconda3\\lib\\site-packages\\numpy\\core\\fromnumeric.py:57: FutureWarning: reshape is deprecated and will raise in a subsequent release. Please use .values.reshape(...) instead\n",
      "  return getattr(obj, method)(*args, **kwds)\n"
     ]
    },
    {
     "data": {
      "text/plain": [
       "array([<matplotlib.axes._subplots.AxesSubplot object at 0x000002223C926470>,\n",
       "       <matplotlib.axes._subplots.AxesSubplot object at 0x000002223C981400>], dtype=object)"
      ]
     },
     "execution_count": 33,
     "metadata": {},
     "output_type": "execute_result"
    },
    {
     "data": {
      "image/png": "[encoded data removed]",
      "text/plain": [
       "<matplotlib.figure.Figure at 0x2223c910358>"
      ]
     },
     "metadata": {},
     "output_type": "display_data"
    }
   ],
   "source": [
    "## Fill Branch.Name empties with ÜNDEF and box plot by branch \n",
    "\n",
    "dataset['Branch.Name'].fillna( \"UNDEF\", inplace=True)\n",
    "\n",
    "dataset.boxplot(column=( \"Nmb.Households.Registered\", \"Nmb.HH.Done.FamilySurvey\"), by=\"Branch.Name\")\n"
   ]
  },
  {
   "cell_type": "code",
   "execution_count": 44,
   "metadata": {},
   "outputs": [
    {
     "name": "stdout",
     "output_type": "stream",
     "text": [
      "What's the relationship between HH size and HH doing survey --- First the distribution\n"
     ]
    },
    {
     "data": {
      "text/plain": [
       "array([[<matplotlib.axes._subplots.AxesSubplot object at 0x000002223CF03E48>,\n",
       "        <matplotlib.axes._subplots.AxesSubplot object at 0x000002223CFAFFD0>]], dtype=object)"
      ]
     },
     "execution_count": 44,
     "metadata": {},
     "output_type": "execute_result"
    },
    {
     "data": {
      "image/png": "[encoded data removed]",
      "text/plain": [
       "<matplotlib.figure.Figure at 0x2223cf0f208>"
      ]
     },
     "metadata": {},
     "output_type": "display_data"
    }
   ],
   "source": [
    "## Bivariate analysis \n",
    "print(\"What's the relationship between HH size and HH doing survey --- First the distribution\")\n",
    "dataset[[\"Nmb.Households.Registered\", \"Nmb.HH.Done.FamilySurvey\"]].hist(stacked=True)\n"
   ]
  },
  {
   "cell_type": "code",
   "execution_count": 46,
   "metadata": {},
   "outputs": [
    {
     "name": "stdout",
     "output_type": "stream",
     "text": [
      "What's the relationship between HH size and HH doing survey --- A scatter plot\n"
     ]
    },
    {
     "data": {
      "text/plain": [
       "<matplotlib.axes._subplots.AxesSubplot at 0x2223d05a4a8>"
      ]
     },
     "execution_count": 46,
     "metadata": {},
     "output_type": "execute_result"
    },
    {
     "data": {
      "image/png": "[encoded data removed]",
      "text/plain": [
       "<matplotlib.figure.Figure at 0x2223d0462b0>"
      ]
     },
     "metadata": {},
     "output_type": "display_data"
    }
   ],
   "source": [
    "print(\"What's the relationship between HH size and HH doing survey --- A scatter plot\")\n",
    "dataset.plot.scatter(x=\"Nmb.Households.Registered\", y=\"Nmb.HH.Done.FamilySurvey\")\n"
   ]
  },
  {
   "cell_type": "code",
   "execution_count": 48,
   "metadata": {},
   "outputs": [
    {
     "name": "stdout",
     "output_type": "stream",
     "text": [
      "What's the relationship between HH size and HH doing survey --- correlation \n"
     ]
    },
    {
     "data": {
      "text/html": [
       "<div>\n",
       "<style>\n",
       "    .dataframe thead tr:only-child th {\n",
       "        text-align: right;\n",
       "    }\n",
       "\n",
       "    .dataframe thead th {\n",
       "        text-align: left;\n",
       "    }\n",
       "\n",
       "    .dataframe tbody tr th {\n",
       "        vertical-align: top;\n",
       "    }\n",
       "</style>\n",
       "<table border=\"1\" class=\"dataframe\">\n",
       "  <thead>\n",
       "    <tr style=\"text-align: right;\">\n",
       "      <th></th>\n",
       "      <th>Nmb.Households.Registered</th>\n",
       "      <th>Nmb.HH.Done.FamilySurvey</th>\n",
       "    </tr>\n",
       "  </thead>\n",
       "  <tbody>\n",
       "    <tr>\n",
       "      <th>Nmb.Households.Registered</th>\n",
       "      <td>1.000000</td>\n",
       "      <td>0.666278</td>\n",
       "    </tr>\n",
       "    <tr>\n",
       "      <th>Nmb.HH.Done.FamilySurvey</th>\n",
       "      <td>0.666278</td>\n",
       "      <td>1.000000</td>\n",
       "    </tr>\n",
       "  </tbody>\n",
       "</table>\n",
       "</div>"
      ],
      "text/plain": [
       "                           Nmb.Households.Registered  Nmb.HH.Done.FamilySurvey\n",
       "Nmb.Households.Registered                   1.000000                  0.666278\n",
       "Nmb.HH.Done.FamilySurvey                    0.666278                  1.000000"
      ]
     },
     "execution_count": 48,
     "metadata": {},
     "output_type": "execute_result"
    }
   ],
   "source": [
    "print(\"What's the relationship between HH size and HH doing survey --- correlation \")\n",
    "dataset[[\"Nmb.Households.Registered\",\"Nmb.HH.Done.FamilySurvey\"]].corr()"
   ]
  },
  {
   "cell_type": "code",
   "execution_count": null,
   "metadata": {
    "collapsed": true
   },
   "outputs": [],
   "source": [
    "## R equivalent\n",
    "# load\n",
    "# head\n",
    "# glimse\n",
    "# describe / dplyr chains \n",
    "# ggplot2 "
   ]
  }
 ],
 "metadata": {
  "kernelspec": {
   "display_name": "Python 3",
   "language": "python",
   "name": "python3"
  },
  "language_info": {
   "codemirror_mode": {
    "name": "ipython",
    "version": 3
   },
   "file_extension": ".py",
   "mimetype": "text/x-python",
   "name": "python",
   "nbconvert_exporter": "python",
   "pygments_lexer": "ipython3",
   "version": "3.6.3"
  }
 },
 "nbformat": 4,
 "nbformat_minor": 2
}
